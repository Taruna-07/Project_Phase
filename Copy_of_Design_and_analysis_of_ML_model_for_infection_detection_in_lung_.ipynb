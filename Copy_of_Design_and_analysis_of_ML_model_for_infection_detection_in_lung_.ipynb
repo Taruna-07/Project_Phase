{
  "nbformat": 4,
  "nbformat_minor": 0,
  "metadata": {
    "colab": {
      "name": "Copy of Design and analysis of ML model for infection detection in lung .ipynb",
      "provenance": [],
      "authorship_tag": "ABX9TyPATDnazKRvReuHe/Lpz/2T",
      "include_colab_link": true
    },
    "kernelspec": {
      "name": "python3",
      "display_name": "Python 3"
    },
    "language_info": {
      "name": "python"
    }
  },
  "cells": [
    {
      "cell_type": "markdown",
      "metadata": {
        "id": "view-in-github",
        "colab_type": "text"
      },
      "source": [
        "<a href=\"https://colab.research.google.com/github/Taruna-07/Project_Phase/blob/main/Copy_of_Design_and_analysis_of_ML_model_for_infection_detection_in_lung_.ipynb\" target=\"_parent\"><img src=\"https://colab.research.google.com/assets/colab-badge.svg\" alt=\"Open In Colab\"/></a>"
      ]
    },
    {
      "cell_type": "markdown",
      "metadata": {
        "id": "BfHZyCdOYeCU"
      },
      "source": [
        "***Design ML model to detect infection in lung***"
      ]
    },
    {
      "cell_type": "markdown",
      "metadata": {
        "id": "N3yCFGKnY6G5"
      },
      "source": [
        "1.Importing Tensorflow version and if the version in less than 2.0.0 then install the 2.0.0 version using pip install"
      ]
    },
    {
      "cell_type": "code",
      "metadata": {
        "id": "Sw9Ce0sXE2bT"
      },
      "source": [
        "import tensorflow as tf\n",
        "tf.__version__"
      ],
      "execution_count": null,
      "outputs": []
    },
    {
      "cell_type": "code",
      "metadata": {
        "id": "2aBHvnHUFVEn"
      },
      "source": [
        "#!pip install tensorflow-gpu==2.0.0"
      ],
      "execution_count": null,
      "outputs": []
    },
    {
      "cell_type": "markdown",
      "metadata": {
        "id": "_xrsp8ZxZRcD"
      },
      "source": [
        "2.Importing Tensorflow libraries"
      ]
    },
    {
      "cell_type": "code",
      "metadata": {
        "id": "ho_WcPtnGKA5"
      },
      "source": [
        "from tensorflow.keras.models import Sequential\n",
        "from tensorflow.keras.layers import Dense, Conv2D, Flatten, Dropout, MaxPooling2D\n",
        "from tensorflow.keras.preprocessing.image import ImageDataGenerator\n",
        "\n",
        "import os\n",
        "import numpy as np\n",
        "import matplotlib.pyplot as plt"
      ],
      "execution_count": null,
      "outputs": []
    },
    {
      "cell_type": "markdown",
      "metadata": {
        "id": "ElhWRjL6Za_9"
      },
      "source": [
        "3. Syntax for creating white background image"
      ]
    },
    {
      "cell_type": "code",
      "metadata": {
        "id": "6nGVCep7Gep-"
      },
      "source": [
        "# Create images with white backgrounds\n",
        "import plotly.io as pio\n",
        "pio.templates.default = 'plotly_white'"
      ],
      "execution_count": null,
      "outputs": []
    },
    {
      "cell_type": "markdown",
      "metadata": {
        "id": "5u7S3G2vZjkj"
      },
      "source": [
        "4. Connecting Google drive with google colab to extract dataset"
      ]
    },
    {
      "cell_type": "code",
      "metadata": {
        "id": "nJEEpycbZqCX"
      },
      "source": [
        "auth.authenticate_user()\n",
        "gauth = GoogleAuth()\n",
        "gauth.credentials = GoogleCredentials.get_application_default()\n",
        "drive = GoogleDrive(gauth)"
      ],
      "execution_count": null,
      "outputs": []
    },
    {
      "cell_type": "code",
      "metadata": {
        "id": "ltfi6QlIYs18"
      },
      "source": [
        "fid = drive.ListFile({'q':\"title='PneumoniaCXR.zip'\"}).GetList()[0]['id']\n",
        "f = drive.CreateFile({'id': fid})\n",
        "f.GetContentFile('PneumoniaCXR.zip')"
      ],
      "execution_count": null,
      "outputs": []
    },
    {
      "cell_type": "code",
      "metadata": {
        "id": "R_EqcWHBY2j7"
      },
      "source": [
        "f.keys()"
      ],
      "execution_count": null,
      "outputs": []
    },
    {
      "cell_type": "markdown",
      "metadata": {
        "id": "HR82d7Meagrl"
      },
      "source": [
        "5.Extracting dataset from zip file"
      ]
    },
    {
      "cell_type": "code",
      "metadata": {
        "id": "waRNcsy9Y8MJ"
      },
      "source": [
        "!unzip PneumoniaCXR.zip"
      ],
      "execution_count": null,
      "outputs": []
    },
    {
      "cell_type": "markdown",
      "metadata": {
        "id": "21bMHROha-bC"
      },
      "source": [
        "The file is archived as a ZIP file in Google Drive.\n",
        "\n",
        "Note the original folder structure\n",
        "\n",
        "Train\n",
        "\n",
        "*   Viral\n",
        "\n",
        "*   Bacterial\n",
        "\n",
        "*   Normal\n",
        "\n",
        "Test\n",
        "\n",
        "*   Viral\n",
        "\n",
        "*   Bacterial\n",
        "\n",
        "*   Normal\n",
        "\n",
        "\n",
        "\n",
        "Make sure that the sub-folders have exactly the same names (and cases, i.e. each sub-folder name starts with an uppercase letter).\n",
        "\n",
        "The images were originally stored in the structure above inside a folder named PneumoniaCXR. This folder was compressed as a ZIP file and uploaded to Google Drive."
      ]
    },
    {
      "cell_type": "code",
      "metadata": {
        "id": "kExA9oIUZGkE"
      },
      "source": [
        "PATH = '/content/PneumoniaCXR'"
      ],
      "execution_count": null,
      "outputs": []
    },
    {
      "cell_type": "code",
      "metadata": {
        "id": "2SQ0HDb2ZlJf"
      },
      "source": [
        "os.listdir(PATH)"
      ],
      "execution_count": null,
      "outputs": []
    },
    {
      "cell_type": "markdown",
      "metadata": {
        "id": "aarUEhL6cTWn"
      },
      "source": [
        "6.Inspecting path and dimension of data"
      ]
    },
    {
      "cell_type": "code",
      "metadata": {
        "id": "_rRUCftObJPb"
      },
      "source": [
        "train_dir = os.path.join(PATH,\n",
        "                         'Train')\n",
        "test_dir = os.path.join(PATH,\n",
        "                        'Test')"
      ],
      "execution_count": null,
      "outputs": []
    },
    {
      "cell_type": "code",
      "metadata": {
        "id": "G-g6-oWJbOFr"
      },
      "source": [
        "train_normal_dir = os.path.join(train_dir,\n",
        "                                'Normal')\n",
        "train_bacterial_dir = os.path.join(train_dir,\n",
        "                                   'Bacterial')\n",
        "train_viral_dir = os.path.join(train_dir,\n",
        "                               'Viral')\n",
        "\n",
        "test_normal_dir = os.path.join(test_dir,\n",
        "                               'Normal')\n",
        "test_bacterial_dir = os.path.join(test_dir,\n",
        "                                  'Bacterial')\n",
        "test_viral_dir = os.path.join(test_dir,\n",
        "                              'Viral')"
      ],
      "execution_count": null,
      "outputs": []
    },
    {
      "cell_type": "code",
      "metadata": {
        "id": "fTzjtzzbbU0v"
      },
      "source": [
        "len(os.listdir(train_normal_dir))"
      ],
      "execution_count": null,
      "outputs": []
    },
    {
      "cell_type": "code",
      "metadata": {
        "id": "2mhrkuD4bZez"
      },
      "source": [
        "len(os.listdir(test_viral_dir))"
      ],
      "execution_count": null,
      "outputs": []
    },
    {
      "cell_type": "code",
      "metadata": {
        "id": "hghdrUPQbc7H"
      },
      "source": [
        "len(os.listdir(test_bacterial_dir))"
      ],
      "execution_count": null,
      "outputs": []
    },
    {
      "cell_type": "markdown",
      "metadata": {
        "id": "BL--NHKtdAlx"
      },
      "source": [
        "7.Preparing the data"
      ]
    },
    {
      "cell_type": "code",
      "metadata": {
        "id": "3lCQcfWKbg0G"
      },
      "source": [
        "IMG_HEIGHT = 212\n",
        "IMG_WIDTH = 212\n",
        "batch_size = 8"
      ],
      "execution_count": null,
      "outputs": []
    },
    {
      "cell_type": "code",
      "metadata": {
        "id": "K7AOnts3bkYn"
      },
      "source": [
        "image_gen = ImageDataGenerator(\n",
        "    rescale=1./255\n",
        "    )"
      ],
      "execution_count": null,
      "outputs": []
    },
    {
      "cell_type": "code",
      "metadata": {
        "id": "l8aE5S_SbnCq"
      },
      "source": [
        "train_data_gen = image_gen.flow_from_directory(\n",
        "    batch_size=batch_size,\n",
        "    directory=train_dir,\n",
        "    shuffle=True,\n",
        "    target_size=(IMG_HEIGHT, IMG_WIDTH),\n",
        "    class_mode='categorical')"
      ],
      "execution_count": null,
      "outputs": []
    },
    {
      "cell_type": "code",
      "metadata": {
        "id": "7H5x83I5eWJ6"
      },
      "source": [
        "test_data_gen = image_gen.flow_from_directory(\n",
        "    batch_size=batch_size,\n",
        "    directory=test_dir,\n",
        "    target_size=(IMG_HEIGHT, IMG_WIDTH),\n",
        "    class_mode='categorical')"
      ],
      "execution_count": null,
      "outputs": []
    },
    {
      "cell_type": "code",
      "metadata": {
        "id": "Pz9CMwtybuYH"
      },
      "source": [
        "sample_training_images, _ = next(train_data_gen)"
      ],
      "execution_count": null,
      "outputs": []
    },
    {
      "cell_type": "code",
      "metadata": {
        "id": "p_PxwogtbypK"
      },
      "source": [
        "# This function will plot images in the form of a grid with 1 row and 5 columns where images are placed in each column.\n",
        "def plotImages(images_arr):\n",
        "    fig, axes = plt.subplots(1, 3, figsize=(20,20))\n",
        "    axes = axes.flatten()\n",
        "    for img, ax in zip( images_arr, axes):\n",
        "        ax.imshow(img)\n",
        "        ax.axis('off')\n",
        "    plt.tight_layout()\n",
        "    plt.show()"
      ],
      "execution_count": null,
      "outputs": []
    },
    {
      "cell_type": "code",
      "metadata": {
        "id": "CjzmD3bsb7Wi"
      },
      "source": [
        "plotImages(sample_training_images[:3])"
      ],
      "execution_count": null,
      "outputs": []
    },
    {
      "cell_type": "markdown",
      "metadata": {
        "id": "faE2YgbFdlS6"
      },
      "source": [
        "8.Creating Neural network"
      ]
    },
    {
      "cell_type": "code",
      "metadata": {
        "id": "k3xf6OUIcAy0"
      },
      "source": [
        "model = Sequential([\n",
        "    Conv2D(16, 3, padding='same', activation='relu', input_shape=(IMG_HEIGHT, IMG_WIDTH, 3)),\n",
        "    MaxPooling2D(),\n",
        "    Dropout(0.2),\n",
        "    Conv2D(32, 3, padding='same', activation='relu'),\n",
        "    MaxPooling2D(),\n",
        "    Conv2D(64, 3, padding='same', activation='relu'),\n",
        "    MaxPooling2D(),\n",
        "    Dropout(0.2),\n",
        "    Conv2D(128, 3, padding='same', activation='relu'),\n",
        "    MaxPooling2D(),\n",
        "    Dropout(0.2),\n",
        "    Conv2D(128, 3, padding='same', activation='relu'),\n",
        "    MaxPooling2D(),\n",
        "    Dropout(0.2),\n",
        "    Flatten(),\n",
        "    Dense(512, activation='relu'),\n",
        "    Dense(3, activation='softmax')\n",
        "])"
      ],
      "execution_count": null,
      "outputs": []
    },
    {
      "cell_type": "code",
      "metadata": {
        "id": "leXbMsTDcGmi"
      },
      "source": [
        "model.compile(optimizer='adam',\n",
        "              loss='categorical_crossentropy',\n",
        "              metrics=['accuracy'])"
      ],
      "execution_count": null,
      "outputs": []
    },
    {
      "cell_type": "code",
      "metadata": {
        "id": "25q1c_BocKg9"
      },
      "source": [
        "model.summary()"
      ],
      "execution_count": null,
      "outputs": []
    },
    {
      "cell_type": "markdown",
      "metadata": {
        "id": "QFlcsx-fd5hi"
      },
      "source": [
        "9.Training the model"
      ]
    },
    {
      "cell_type": "code",
      "metadata": {
        "id": "qtieJALgcf1J"
      },
      "source": [
        "batch_size = 8\n",
        "epochs = 10"
      ],
      "execution_count": null,
      "outputs": []
    },
    {
      "cell_type": "code",
      "metadata": {
        "id": "Mo8NVbgncoGg"
      },
      "source": [
        "num_normal_train = len(os.listdir(train_normal_dir))\n",
        "num_bacterial_train = len(os.listdir(train_bacterial_dir))\n",
        "num_viral_train = len(os.listdir(train_viral_dir))\n",
        "\n",
        "num_normal_test = len(os.listdir(test_normal_dir))\n",
        "num_bacterial_test = len(os.listdir(test_bacterial_dir))\n",
        "num_viral_test = len(os.listdir(test_viral_dir))\n",
        "\n",
        "total_train = num_normal_train + num_bacterial_train + num_viral_train\n",
        "total_test = num_normal_test + num_bacterial_test + num_viral_test"
      ],
      "execution_count": null,
      "outputs": []
    },
    {
      "cell_type": "code",
      "metadata": {
        "id": "v3ZYbacic8E2"
      },
      "source": [
        "history = model.fit_generator(\n",
        "    train_data_gen,\n",
        "    steps_per_epoch=total_train // batch_size,\n",
        "    epochs=epochs,\n",
        "    validation_data=test_data_gen,\n",
        "    validation_steps=total_test // batch_size,\n",
        "    callbacks = [tf.keras.callbacks.EarlyStopping(\n",
        "        monitor='val_loss',\n",
        "        min_delta=0.01,\n",
        "        patience=3\n",
        "    )]\n",
        ")"
      ],
      "execution_count": null,
      "outputs": []
    },
    {
      "cell_type": "code",
      "metadata": {
        "id": "fFLwHZR0fmfP"
      },
      "source": [
        "import plotly.graph_objects as go\n",
        "fig = go.Figure()\n",
        "\n",
        "fig.add_trace(go.Scatter(x=history.epoch,\n",
        "                         y=history.history['accuracy'],\n",
        "                         mode='lines+markers',\n",
        "                         name='Training accuracy'))\n",
        "fig.add_trace(go.Scatter(x=history.epoch,\n",
        "                         y=history.history['val_accuracy'],\n",
        "                         mode='lines+markers',\n",
        "                         name='Validation accuracy'))\n",
        "fig.update_layout(title='Accuracy',\n",
        "                  xaxis=dict(title='Epoch'),\n",
        "                  yaxis=dict(title='Percentage'))\n",
        "fig.show()"
      ],
      "execution_count": null,
      "outputs": []
    },
    {
      "cell_type": "markdown",
      "metadata": {
        "id": "VaZ5WEX9eQOj"
      },
      "source": [
        "10.Saving model"
      ]
    },
    {
      "cell_type": "code",
      "metadata": {
        "id": "odDpeTlTf8Vp"
      },
      "source": [
        "save_path = F'/content/gdrive/My Drive/Design and analysis of ML model for infection detection in lung/'"
      ],
      "execution_count": null,
      "outputs": []
    },
    {
      "cell_type": "code",
      "metadata": {
        "id": "ONSl8_xegh46"
      },
      "source": [
        "model.save_weights(os.path.join(PATH, 'CXR.h5'))"
      ],
      "execution_count": null,
      "outputs": []
    },
    {
      "cell_type": "code",
      "metadata": {
        "id": "GTLUJuUdgk2G"
      },
      "source": [
        "model_json = model.to_json()"
      ],
      "execution_count": null,
      "outputs": []
    },
    {
      "cell_type": "code",
      "metadata": {
        "id": "1vk6kJ10gnus"
      },
      "source": [
        "with open(os.path.join(PATH, 'CXR.json'), 'w') as json_file:\n",
        "  json_file.write(model_json)"
      ],
      "execution_count": null,
      "outputs": []
    },
    {
      "cell_type": "code",
      "metadata": {
        "id": "SFOE5ZcMgrZ-"
      },
      "source": [
        "json_file.close()"
      ],
      "execution_count": null,
      "outputs": []
    },
    {
      "cell_type": "markdown",
      "metadata": {
        "id": "zV5_D1f5fG8M"
      },
      "source": [
        "11.Transfer Learning"
      ]
    },
    {
      "cell_type": "code",
      "metadata": {
        "id": "4NyZrR-PguTB"
      },
      "source": [
        "IMG_HEIGHT = 128\n",
        "IMG_WIDTH = 128"
      ],
      "execution_count": null,
      "outputs": []
    },
    {
      "cell_type": "code",
      "metadata": {
        "id": "aSwDpkAIgyXc"
      },
      "source": [
        "IMG_SHAPE = (IMG_HEIGHT, IMG_WIDTH, 3)\n",
        "\n",
        "# Create the base model from the pre-trained model MobileNet V2\n",
        "base_model = tf.keras.applications.MobileNetV2(input_shape=IMG_SHAPE,\n",
        "                                               include_top=False,\n",
        "                                               weights='imagenet')"
      ],
      "execution_count": null,
      "outputs": []
    },
    {
      "cell_type": "code",
      "metadata": {
        "id": "KbEu2a6Zg17_"
      },
      "source": [
        "base_model.trainable = True"
      ],
      "execution_count": null,
      "outputs": []
    },
    {
      "cell_type": "code",
      "metadata": {
        "id": "UStR5AhNg9u_"
      },
      "source": [
        "# Let's take a look to see how many layers are in the base model\n",
        "print(\"Number of layers in the base model: \", len(base_model.layers))\n",
        "\n",
        "# Fine-tune from this layer onwards\n",
        "fine_tune_at = 100\n",
        "\n",
        "# Freeze all the layers before the `fine_tune_at` layer\n",
        "for layer in base_model.layers[:fine_tune_at]:\n",
        "  layer.trainable =  False"
      ],
      "execution_count": null,
      "outputs": []
    }
  ]
}